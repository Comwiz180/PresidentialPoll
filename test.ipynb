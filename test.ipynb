{
 "cells": [
  {
   "cell_type": "code",
   "execution_count": 4,
   "metadata": {},
   "outputs": [
    {
     "name": "stdout",
     "output_type": "stream",
     "text": [
      "       year      state state_po  state_fips  state_cen  state_ic    office  \\\n",
      "29329  2018  Tennessee       TN          47         62        54  US House   \n",
      "29330  2018  Tennessee       TN          47         62        54  US House   \n",
      "29331  2018  Tennessee       TN          47         62        54  US House   \n",
      "29332  2018  Tennessee       TN          47         62        54  US House   \n",
      "29333  2018  Tennessee       TN          47         62        54  US House   \n",
      "29334  2018  Tennessee       TN          47         62        54  US House   \n",
      "29335  2018  Tennessee       TN          47         62        54  US House   \n",
      "29336  2018  Tennessee       TN          47         62        54  US House   \n",
      "29337  2018  Tennessee       TN          47         62        54  US House   \n",
      "29338  2018  Tennessee       TN          47         62        54  US House   \n",
      "\n",
      "       district stage runoff  special                  candidate        party  \\\n",
      "29329         7   gen    NaN    False             Brent Legendre  independent   \n",
      "29330         7   gen    NaN    False               Justin Kanew     democrat   \n",
      "29331         7   gen    NaN    False  Leonard D. (Lenny) Ladner  independent   \n",
      "29332         7   gen    NaN    False              Mark E. Green   republican   \n",
      "29333         8   gen    NaN    False              David Kustoff   republican   \n",
      "29334         8   gen    NaN    False       Erika Stotts Pearson     democrat   \n",
      "29335         8   gen    NaN    False                 James Hart  independent   \n",
      "29336         9   gen    NaN    False         Charlotte Bergmann   republican   \n",
      "29337         9   gen    NaN    False               Leo AwGoWhat  independent   \n",
      "29338         9   gen    NaN    False                Steve Cohen     democrat   \n",
      "\n",
      "       writein   mode  candidatevotes  totalvotes  unofficial   version  \n",
      "29329    False  total            1070      254384       False  20200424  \n",
      "29330    False  total           81661      254384       False  20200424  \n",
      "29331    False  total            1582      254384       False  20200424  \n",
      "29332    False  total          170071      254384       False  20200424  \n",
      "29333    False  total          168030      248345       False  20200424  \n",
      "29334    False  total           74755      248345       False  20200424  \n",
      "29335    False  total            5560      248345       False  20200424  \n",
      "29336    False  total           34901      181476       False  20200424  \n",
      "29337    False  total            1436      181476       False  20200424  \n",
      "29338    False  total          145139      181476       False  20200424  \n"
     ]
    }
   ],
   "source": [
    "import pandas as pd\n",
    "\n",
    "df = pd.read_csv('1976-2018-house2.csv', encoding = 'unicode_escape')\n",
    "\n",
    "tmp = df.loc[df['state'] == 'Tennessee']\n",
    "print(tmp.tail(10))"
   ]
  },
  {
   "cell_type": "code",
   "execution_count": null,
   "metadata": {},
   "outputs": [],
   "source": []
  }
 ],
 "metadata": {
  "kernelspec": {
   "display_name": "Python 3",
   "language": "python",
   "name": "python3"
  },
  "language_info": {
   "codemirror_mode": {
    "name": "ipython",
    "version": 3
   },
   "file_extension": ".py",
   "mimetype": "text/x-python",
   "name": "python",
   "nbconvert_exporter": "python",
   "pygments_lexer": "ipython3",
   "version": "3.8.2"
  }
 },
 "nbformat": 4,
 "nbformat_minor": 4
}
